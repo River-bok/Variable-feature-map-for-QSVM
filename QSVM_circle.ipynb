{
  "nbformat": 4,
  "nbformat_minor": 0,
  "metadata": {
    "colab": {
      "name": "QSVM_circle.ipynb",
      "provenance": []
    },
    "kernelspec": {
      "name": "python3",
      "display_name": "Python 3"
    },
    "widgets": {
      "application/vnd.jupyter.widget-state+json": {
        "87d3ffcfd59c469aa438cceea369283a": {
          "model_module": "@jupyter-widgets/controls",
          "model_name": "HBoxModel",
          "state": {
            "_view_name": "HBoxView",
            "_dom_classes": [],
            "_model_name": "HBoxModel",
            "_view_module": "@jupyter-widgets/controls",
            "_model_module_version": "1.5.0",
            "_view_count": null,
            "_view_module_version": "1.5.0",
            "box_style": "",
            "layout": "IPY_MODEL_8acc573131c344a9b980be98bcbb001d",
            "_model_module": "@jupyter-widgets/controls",
            "children": [
              "IPY_MODEL_97861a5672814531bb8d90e4f753c32a",
              "IPY_MODEL_87a4fb624c0644c2b1a4c9389b75dac0"
            ]
          }
        },
        "8acc573131c344a9b980be98bcbb001d": {
          "model_module": "@jupyter-widgets/base",
          "model_name": "LayoutModel",
          "state": {
            "_view_name": "LayoutView",
            "grid_template_rows": null,
            "right": null,
            "justify_content": null,
            "_view_module": "@jupyter-widgets/base",
            "overflow": null,
            "_model_module_version": "1.2.0",
            "_view_count": null,
            "flex_flow": null,
            "width": null,
            "min_width": null,
            "border": null,
            "align_items": null,
            "bottom": null,
            "_model_module": "@jupyter-widgets/base",
            "top": null,
            "grid_column": null,
            "overflow_y": null,
            "overflow_x": null,
            "grid_auto_flow": null,
            "grid_area": null,
            "grid_template_columns": null,
            "flex": null,
            "_model_name": "LayoutModel",
            "justify_items": null,
            "grid_row": null,
            "max_height": null,
            "align_content": null,
            "visibility": null,
            "align_self": null,
            "height": null,
            "min_height": null,
            "padding": null,
            "grid_auto_rows": null,
            "grid_gap": null,
            "max_width": null,
            "order": null,
            "_view_module_version": "1.2.0",
            "grid_template_areas": null,
            "object_position": null,
            "object_fit": null,
            "grid_auto_columns": null,
            "margin": null,
            "display": null,
            "left": null
          }
        },
        "97861a5672814531bb8d90e4f753c32a": {
          "model_module": "@jupyter-widgets/controls",
          "model_name": "FloatProgressModel",
          "state": {
            "_view_name": "ProgressView",
            "style": "IPY_MODEL_fbdc941dfcde40fda8ec648c22404e65",
            "_dom_classes": [],
            "description": "100%",
            "_model_name": "FloatProgressModel",
            "bar_style": "success",
            "max": 153,
            "_view_module": "@jupyter-widgets/controls",
            "_model_module_version": "1.5.0",
            "value": 153,
            "_view_count": null,
            "_view_module_version": "1.5.0",
            "orientation": "horizontal",
            "min": 0,
            "description_tooltip": null,
            "_model_module": "@jupyter-widgets/controls",
            "layout": "IPY_MODEL_f187e9e0274440fb80290b0661b09037"
          }
        },
        "87a4fb624c0644c2b1a4c9389b75dac0": {
          "model_module": "@jupyter-widgets/controls",
          "model_name": "HTMLModel",
          "state": {
            "_view_name": "HTMLView",
            "style": "IPY_MODEL_886eeb4cd22542a38b71897323bd32e1",
            "_dom_classes": [],
            "description": "",
            "_model_name": "HTMLModel",
            "placeholder": "​",
            "_view_module": "@jupyter-widgets/controls",
            "_model_module_version": "1.5.0",
            "value": " 153/153 [24:44&lt;00:00,  9.70s/it]",
            "_view_count": null,
            "_view_module_version": "1.5.0",
            "description_tooltip": null,
            "_model_module": "@jupyter-widgets/controls",
            "layout": "IPY_MODEL_2e8a98ef74b84dbbac1b817ac6435e82"
          }
        },
        "fbdc941dfcde40fda8ec648c22404e65": {
          "model_module": "@jupyter-widgets/controls",
          "model_name": "ProgressStyleModel",
          "state": {
            "_view_name": "StyleView",
            "_model_name": "ProgressStyleModel",
            "description_width": "initial",
            "_view_module": "@jupyter-widgets/base",
            "_model_module_version": "1.5.0",
            "_view_count": null,
            "_view_module_version": "1.2.0",
            "bar_color": null,
            "_model_module": "@jupyter-widgets/controls"
          }
        },
        "f187e9e0274440fb80290b0661b09037": {
          "model_module": "@jupyter-widgets/base",
          "model_name": "LayoutModel",
          "state": {
            "_view_name": "LayoutView",
            "grid_template_rows": null,
            "right": null,
            "justify_content": null,
            "_view_module": "@jupyter-widgets/base",
            "overflow": null,
            "_model_module_version": "1.2.0",
            "_view_count": null,
            "flex_flow": null,
            "width": null,
            "min_width": null,
            "border": null,
            "align_items": null,
            "bottom": null,
            "_model_module": "@jupyter-widgets/base",
            "top": null,
            "grid_column": null,
            "overflow_y": null,
            "overflow_x": null,
            "grid_auto_flow": null,
            "grid_area": null,
            "grid_template_columns": null,
            "flex": null,
            "_model_name": "LayoutModel",
            "justify_items": null,
            "grid_row": null,
            "max_height": null,
            "align_content": null,
            "visibility": null,
            "align_self": null,
            "height": null,
            "min_height": null,
            "padding": null,
            "grid_auto_rows": null,
            "grid_gap": null,
            "max_width": null,
            "order": null,
            "_view_module_version": "1.2.0",
            "grid_template_areas": null,
            "object_position": null,
            "object_fit": null,
            "grid_auto_columns": null,
            "margin": null,
            "display": null,
            "left": null
          }
        },
        "886eeb4cd22542a38b71897323bd32e1": {
          "model_module": "@jupyter-widgets/controls",
          "model_name": "DescriptionStyleModel",
          "state": {
            "_view_name": "StyleView",
            "_model_name": "DescriptionStyleModel",
            "description_width": "",
            "_view_module": "@jupyter-widgets/base",
            "_model_module_version": "1.5.0",
            "_view_count": null,
            "_view_module_version": "1.2.0",
            "_model_module": "@jupyter-widgets/controls"
          }
        },
        "2e8a98ef74b84dbbac1b817ac6435e82": {
          "model_module": "@jupyter-widgets/base",
          "model_name": "LayoutModel",
          "state": {
            "_view_name": "LayoutView",
            "grid_template_rows": null,
            "right": null,
            "justify_content": null,
            "_view_module": "@jupyter-widgets/base",
            "overflow": null,
            "_model_module_version": "1.2.0",
            "_view_count": null,
            "flex_flow": null,
            "width": null,
            "min_width": null,
            "border": null,
            "align_items": null,
            "bottom": null,
            "_model_module": "@jupyter-widgets/base",
            "top": null,
            "grid_column": null,
            "overflow_y": null,
            "overflow_x": null,
            "grid_auto_flow": null,
            "grid_area": null,
            "grid_template_columns": null,
            "flex": null,
            "_model_name": "LayoutModel",
            "justify_items": null,
            "grid_row": null,
            "max_height": null,
            "align_content": null,
            "visibility": null,
            "align_self": null,
            "height": null,
            "min_height": null,
            "padding": null,
            "grid_auto_rows": null,
            "grid_gap": null,
            "max_width": null,
            "order": null,
            "_view_module_version": "1.2.0",
            "grid_template_areas": null,
            "object_position": null,
            "object_fit": null,
            "grid_auto_columns": null,
            "margin": null,
            "display": null,
            "left": null
          }
        }
      }
    }
  },
  "cells": [
    {
      "cell_type": "markdown",
      "metadata": {
        "id": "5vtMap3Twj_v"
      },
      "source": [
        "# circle dataのQSVMによる分類\r\n",
        "\r\n",
        "#### このコードでは，初期エンコード回路，初期エンコード関数を用いたQSVMによってcircle dataの分類を行った．"
      ]
    },
    {
      "cell_type": "markdown",
      "metadata": {
        "id": "pSh36tgbwFfp"
      },
      "source": [
        "## qiskitのインポート"
      ]
    },
    {
      "cell_type": "code",
      "metadata": {
        "colab": {
          "base_uri": "https://localhost:8080/"
        },
        "id": "lRLwmneFvbo9",
        "outputId": "1b2d7219-a7b8-47aa-b23d-7c44a8aa3412"
      },
      "source": [
        "pip install qiskit==0.19.2"
      ],
      "execution_count": 1,
      "outputs": [
        {
          "output_type": "stream",
          "text": [
            "Collecting qiskit==0.19.2\n",
            "  Downloading https://files.pythonhosted.org/packages/e1/60/52fd9d7bae22e1ba9b7e931da1c70b7e81dacd7baf6f543152047a914e66/qiskit-0.19.2.tar.gz\n",
            "Collecting qiskit-terra==0.14.1\n",
            "\u001b[?25l  Downloading https://files.pythonhosted.org/packages/55/c3/6c3561cbcf69a791307ada32d61b4eeb7ab6a38ac968e0f1e36f0e40b249/qiskit_terra-0.14.1-cp36-cp36m-manylinux2010_x86_64.whl (6.7MB)\n",
            "\u001b[K     |████████████████████████████████| 6.7MB 11.4MB/s \n",
            "\u001b[?25hCollecting qiskit-aer==0.5.1\n",
            "\u001b[?25l  Downloading https://files.pythonhosted.org/packages/88/69/7a779e893a0b8497369b1aab10acf3ab71a5bf01d5373cba9582932bbadf/qiskit_aer-0.5.1-cp36-cp36m-manylinux2010_x86_64.whl (23.4MB)\n",
            "\u001b[K     |████████████████████████████████| 23.4MB 55.3MB/s \n",
            "\u001b[?25hCollecting qiskit-ibmq-provider==0.7.1\n",
            "\u001b[?25l  Downloading https://files.pythonhosted.org/packages/23/64/63c323b7eb1f2f35ab05b01b705a94e83fd7fc5e47f6dcf99b47c502013d/qiskit_ibmq_provider-0.7.1-py3-none-any.whl (155kB)\n",
            "\u001b[K     |████████████████████████████████| 163kB 53.3MB/s \n",
            "\u001b[?25hCollecting qiskit-ignis==0.3.0\n",
            "\u001b[?25l  Downloading https://files.pythonhosted.org/packages/b9/f5/25c92e7c816da820163d0e951b5f340a5f69a4088c42fb44df4a9ba6bf14/qiskit_ignis-0.3.0-py3-none-any.whl (172kB)\n",
            "\u001b[K     |████████████████████████████████| 174kB 40.8MB/s \n",
            "\u001b[?25hCollecting qiskit-aqua==0.7.1\n",
            "\u001b[?25l  Downloading https://files.pythonhosted.org/packages/f4/dc/fa9282e9a40ca4adc6cf0a542fd04b179d477d54e8197c043b02deeb542b/qiskit_aqua-0.7.1-py3-none-any.whl (1.9MB)\n",
            "\u001b[K     |████████████████████████████████| 1.9MB 50.0MB/s \n",
            "\u001b[?25hCollecting marshmallow<4,>=3\n",
            "\u001b[?25l  Downloading https://files.pythonhosted.org/packages/eb/5c/d43fa372e77df6e9783a8e5f29c3cccf27b1f83f3b84d571a22a58509147/marshmallow-3.10.0-py2.py3-none-any.whl (46kB)\n",
            "\u001b[K     |████████████████████████████████| 51kB 5.5MB/s \n",
            "\u001b[?25hRequirement already satisfied: scipy>=1.4 in /usr/local/lib/python3.6/dist-packages (from qiskit-terra==0.14.1->qiskit==0.19.2) (1.4.1)\n",
            "Requirement already satisfied: psutil>=5 in /usr/local/lib/python3.6/dist-packages (from qiskit-terra==0.14.1->qiskit==0.19.2) (5.4.8)\n",
            "Requirement already satisfied: python-dateutil>=2.8.0 in /usr/local/lib/python3.6/dist-packages (from qiskit-terra==0.14.1->qiskit==0.19.2) (2.8.1)\n",
            "Requirement already satisfied: jsonschema>=2.6 in /usr/local/lib/python3.6/dist-packages (from qiskit-terra==0.14.1->qiskit==0.19.2) (2.6.0)\n",
            "Collecting ply>=3.10\n",
            "\u001b[?25l  Downloading https://files.pythonhosted.org/packages/a3/58/35da89ee790598a0700ea49b2a66594140f44dec458c07e8e3d4979137fc/ply-3.11-py2.py3-none-any.whl (49kB)\n",
            "\u001b[K     |████████████████████████████████| 51kB 6.0MB/s \n",
            "\u001b[?25hCollecting fastjsonschema>=2.10\n",
            "  Downloading https://files.pythonhosted.org/packages/c7/47/e860ab658dc2da844e6fdb76b12f6b3e14fbcb62fdd04f3e1c572bca20e1/fastjsonschema-2.14.5-py3-none-any.whl\n",
            "Requirement already satisfied: dill>=0.3 in /usr/local/lib/python3.6/dist-packages (from qiskit-terra==0.14.1->qiskit==0.19.2) (0.3.3)\n",
            "Collecting sympy>=1.3\n",
            "\u001b[?25l  Downloading https://files.pythonhosted.org/packages/ff/69/b16fc81b939d3efdd0b552f2e3e54f7fa1423d0c320cced2e69e675dde26/sympy-1.7.1-py3-none-any.whl (5.9MB)\n",
            "\u001b[K     |████████████████████████████████| 5.9MB 41.4MB/s \n",
            "\u001b[?25hRequirement already satisfied: networkx>=2.2; python_version > \"3.5\" in /usr/local/lib/python3.6/dist-packages (from qiskit-terra==0.14.1->qiskit==0.19.2) (2.5)\n",
            "Collecting retworkx>=0.3.2\n",
            "\u001b[?25l  Downloading https://files.pythonhosted.org/packages/b7/21/5d4498cedb23927a31173176975e2162e0d6a2b80846ef254dd5500e10da/retworkx-0.7.2-cp36-cp36m-manylinux2010_x86_64.whl (1.3MB)\n",
            "\u001b[K     |████████████████████████████████| 1.3MB 46.7MB/s \n",
            "\u001b[?25hCollecting marshmallow-polyfield<6,>=5.7\n",
            "  Downloading https://files.pythonhosted.org/packages/0c/7e/ceb805d05cd03709b8de122b4ac1e736c4eb91d05281ad2a2bcb484accef/marshmallow-polyfield-5.9.tar.gz\n",
            "Collecting python-constraint>=1.4\n",
            "  Downloading https://files.pythonhosted.org/packages/37/8b/5f1bc2734ca611943e1d6733ee244238679f6410a10cd45ede55a61a8402/python-constraint-1.4.0.tar.bz2\n",
            "Requirement already satisfied: numpy>=1.17 in /usr/local/lib/python3.6/dist-packages (from qiskit-terra==0.14.1->qiskit==0.19.2) (1.19.4)\n",
            "Collecting pybind11>=2.4\n",
            "\u001b[?25l  Downloading https://files.pythonhosted.org/packages/00/84/fc9dc13ee536ba5e6b8fd10ce368fea5b738fe394c3b296cde7c9b144a92/pybind11-2.6.1-py2.py3-none-any.whl (188kB)\n",
            "\u001b[K     |████████████████████████████████| 194kB 51.2MB/s \n",
            "\u001b[?25hRequirement already satisfied: cython>=0.27.1 in /usr/local/lib/python3.6/dist-packages (from qiskit-aer==0.5.1->qiskit==0.19.2) (0.29.21)\n",
            "Requirement already satisfied: nest-asyncio!=1.1.0,>=1.0.0 in /usr/local/lib/python3.6/dist-packages (from qiskit-ibmq-provider==0.7.1->qiskit==0.19.2) (1.4.3)\n",
            "Requirement already satisfied: urllib3>=1.21.1 in /usr/local/lib/python3.6/dist-packages (from qiskit-ibmq-provider==0.7.1->qiskit==0.19.2) (1.24.3)\n",
            "Requirement already satisfied: requests>=2.19 in /usr/local/lib/python3.6/dist-packages (from qiskit-ibmq-provider==0.7.1->qiskit==0.19.2) (2.23.0)\n",
            "Collecting websockets<8,>=7\n",
            "\u001b[?25l  Downloading https://files.pythonhosted.org/packages/43/71/8bfa882b9c502c36e5c9ef6732969533670d2b039cbf95a82ced8f762b80/websockets-7.0-cp36-cp36m-manylinux1_x86_64.whl (63kB)\n",
            "\u001b[K     |████████████████████████████████| 71kB 6.2MB/s \n",
            "\u001b[?25hCollecting requests-ntlm>=1.1.0\n",
            "  Downloading https://files.pythonhosted.org/packages/03/4b/8b9a1afde8072c4d5710d9fa91433d504325821b038e00237dc8d6d833dc/requests_ntlm-1.1.0-py2.py3-none-any.whl\n",
            "Requirement already satisfied: setuptools>=40.1.0 in /usr/local/lib/python3.6/dist-packages (from qiskit-ignis==0.3.0->qiskit==0.19.2) (51.0.0)\n",
            "Collecting docplex\n",
            "\u001b[?25l  Downloading https://files.pythonhosted.org/packages/6e/53/7d85a2e2b8559d3dc08ffde370c0f57189ffd9e35493acf1f719f6ac5e0d/docplex-2.19.202.tar.gz (607kB)\n",
            "\u001b[K     |████████████████████████████████| 614kB 40.0MB/s \n",
            "\u001b[?25hRequirement already satisfied: scikit-learn>=0.20.0 in /usr/local/lib/python3.6/dist-packages (from qiskit-aqua==0.7.1->qiskit==0.19.2) (0.22.2.post1)\n",
            "Collecting quandl\n",
            "  Downloading https://files.pythonhosted.org/packages/1f/37/2d908ea6de71a46f4bb2faf5ff0032cefe56117b715c7f22d1d0d2e7527d/Quandl-3.5.3-py2.py3-none-any.whl\n",
            "Collecting pyscf; sys_platform != \"win32\"\n",
            "\u001b[?25l  Downloading https://files.pythonhosted.org/packages/01/46/e92b5a8729735684a7464863b4724a589cbcd7d969d018ad03eb4911238f/pyscf-1.7.5.1-cp36-cp36m-manylinux1_x86_64.whl (29.5MB)\n",
            "\u001b[K     |████████████████████████████████| 29.5MB 162kB/s \n",
            "\u001b[?25hRequirement already satisfied: fastdtw in /usr/local/lib/python3.6/dist-packages (from qiskit-aqua==0.7.1->qiskit==0.19.2) (0.3.4)\n",
            "Requirement already satisfied: h5py in /usr/local/lib/python3.6/dist-packages (from qiskit-aqua==0.7.1->qiskit==0.19.2) (2.10.0)\n",
            "Collecting dlx\n",
            "  Downloading https://files.pythonhosted.org/packages/54/c0/b8fb5bb727e983b6f5251433ef941b48f38c65bb0bd6ec509e9185bcd406/dlx-1.0.4.tar.gz\n",
            "Requirement already satisfied: six>=1.5 in /usr/local/lib/python3.6/dist-packages (from python-dateutil>=2.8.0->qiskit-terra==0.14.1->qiskit==0.19.2) (1.15.0)\n",
            "Requirement already satisfied: mpmath>=0.19 in /usr/local/lib/python3.6/dist-packages (from sympy>=1.3->qiskit-terra==0.14.1->qiskit==0.19.2) (1.1.0)\n",
            "Requirement already satisfied: decorator>=4.3.0 in /usr/local/lib/python3.6/dist-packages (from networkx>=2.2; python_version > \"3.5\"->qiskit-terra==0.14.1->qiskit==0.19.2) (4.4.2)\n",
            "Requirement already satisfied: certifi>=2017.4.17 in /usr/local/lib/python3.6/dist-packages (from requests>=2.19->qiskit-ibmq-provider==0.7.1->qiskit==0.19.2) (2020.12.5)\n",
            "Requirement already satisfied: chardet<4,>=3.0.2 in /usr/local/lib/python3.6/dist-packages (from requests>=2.19->qiskit-ibmq-provider==0.7.1->qiskit==0.19.2) (3.0.4)\n",
            "Requirement already satisfied: idna<3,>=2.5 in /usr/local/lib/python3.6/dist-packages (from requests>=2.19->qiskit-ibmq-provider==0.7.1->qiskit==0.19.2) (2.10)\n",
            "Collecting ntlm-auth>=1.0.2\n",
            "  Downloading https://files.pythonhosted.org/packages/ff/84/97c550164b54942b0e908c31ef09d9469f3ba4cd7332a671e2125732f63b/ntlm_auth-1.5.0-py2.py3-none-any.whl\n",
            "Collecting cryptography>=1.3\n",
            "\u001b[?25l  Downloading https://files.pythonhosted.org/packages/c9/de/7054df0620b5411ba45480f0261e1fb66a53f3db31b28e3aa52c026e72d9/cryptography-3.3.1-cp36-abi3-manylinux2010_x86_64.whl (2.6MB)\n",
            "\u001b[K     |████████████████████████████████| 2.6MB 48.5MB/s \n",
            "\u001b[?25hRequirement already satisfied: joblib>=0.11 in /usr/local/lib/python3.6/dist-packages (from scikit-learn>=0.20.0->qiskit-aqua==0.7.1->qiskit==0.19.2) (1.0.0)\n",
            "Requirement already satisfied: pandas>=0.14 in /usr/local/lib/python3.6/dist-packages (from quandl->qiskit-aqua==0.7.1->qiskit==0.19.2) (1.1.5)\n",
            "Collecting inflection>=0.3.1\n",
            "  Downloading https://files.pythonhosted.org/packages/59/91/aa6bde563e0085a02a435aa99b49ef75b0a4b062635e606dab23ce18d720/inflection-0.5.1-py2.py3-none-any.whl\n",
            "Requirement already satisfied: more-itertools in /usr/local/lib/python3.6/dist-packages (from quandl->qiskit-aqua==0.7.1->qiskit==0.19.2) (8.6.0)\n",
            "Requirement already satisfied: cffi>=1.12 in /usr/local/lib/python3.6/dist-packages (from cryptography>=1.3->requests-ntlm>=1.1.0->qiskit-ibmq-provider==0.7.1->qiskit==0.19.2) (1.14.4)\n",
            "Requirement already satisfied: pytz>=2017.2 in /usr/local/lib/python3.6/dist-packages (from pandas>=0.14->quandl->qiskit-aqua==0.7.1->qiskit==0.19.2) (2018.9)\n",
            "Requirement already satisfied: pycparser in /usr/local/lib/python3.6/dist-packages (from cffi>=1.12->cryptography>=1.3->requests-ntlm>=1.1.0->qiskit-ibmq-provider==0.7.1->qiskit==0.19.2) (2.20)\n",
            "Building wheels for collected packages: qiskit, marshmallow-polyfield, python-constraint, docplex, dlx\n",
            "  Building wheel for qiskit (setup.py) ... \u001b[?25l\u001b[?25hdone\n",
            "  Created wheel for qiskit: filename=qiskit-0.19.2-cp36-none-any.whl size=2894 sha256=022316d1f0f0683898720456237a50c826d42c70224f46717aac5d6b55209d6f\n",
            "  Stored in directory: /root/.cache/pip/wheels/d8/29/6e/e065f721b42fe7049cdab889c1c6cffff86f4a120154fd21f7\n",
            "  Building wheel for marshmallow-polyfield (setup.py) ... \u001b[?25l\u001b[?25hdone\n",
            "  Created wheel for marshmallow-polyfield: filename=marshmallow_polyfield-5.9-cp36-none-any.whl size=8539 sha256=9393728c7e1587d0c304443102189d642226cf0c0727d160badaa1eab35b4c98\n",
            "  Stored in directory: /root/.cache/pip/wheels/69/27/3e/7472f75eab2db111aa387715fe009af15899459517fc1a1906\n",
            "  Building wheel for python-constraint (setup.py) ... \u001b[?25l\u001b[?25hdone\n",
            "  Created wheel for python-constraint: filename=python_constraint-1.4.0-py2.py3-none-any.whl size=24079 sha256=95c5dabed088b5c4a238bb341924858bd64f8e21d06d3e0c51f4c81110ae2a3b\n",
            "  Stored in directory: /root/.cache/pip/wheels/34/31/15/7b070b25d0a549d20ce2e9fe6d727471c2c61ef904720fd40c\n",
            "  Building wheel for docplex (setup.py) ... \u001b[?25l\u001b[?25hdone\n",
            "  Created wheel for docplex: filename=docplex-2.19.202-cp36-none-any.whl size=670938 sha256=270dc3e2f5171ae81ee9edddf57b88e72f459c37b13887ceddb3107c0a1bff79\n",
            "  Stored in directory: /root/.cache/pip/wheels/33/bb/64/5dd51006e730eb1227b8033d1f9e2246b806d9985a70c90d99\n",
            "  Building wheel for dlx (setup.py) ... \u001b[?25l\u001b[?25hdone\n",
            "  Created wheel for dlx: filename=dlx-1.0.4-cp36-none-any.whl size=5711 sha256=2c4df4c7dd9665bfc034bdc6033449ed05cd6989df3e67c10d2c2aa9d201e4d8\n",
            "  Stored in directory: /root/.cache/pip/wheels/bb/ba/15/fdd0deb104df3254912998150ba9245668db06b00af5912d1a\n",
            "Successfully built qiskit marshmallow-polyfield python-constraint docplex dlx\n",
            "Installing collected packages: marshmallow, ply, fastjsonschema, sympy, retworkx, marshmallow-polyfield, python-constraint, qiskit-terra, pybind11, qiskit-aer, websockets, ntlm-auth, cryptography, requests-ntlm, qiskit-ibmq-provider, qiskit-ignis, docplex, inflection, quandl, pyscf, dlx, qiskit-aqua, qiskit\n",
            "  Found existing installation: sympy 1.1.1\n",
            "    Uninstalling sympy-1.1.1:\n",
            "      Successfully uninstalled sympy-1.1.1\n",
            "Successfully installed cryptography-3.3.1 dlx-1.0.4 docplex-2.19.202 fastjsonschema-2.14.5 inflection-0.5.1 marshmallow-3.10.0 marshmallow-polyfield-5.9 ntlm-auth-1.5.0 ply-3.11 pybind11-2.6.1 pyscf-1.7.5.1 python-constraint-1.4.0 qiskit-0.19.2 qiskit-aer-0.5.1 qiskit-aqua-0.7.1 qiskit-ibmq-provider-0.7.1 qiskit-ignis-0.3.0 qiskit-terra-0.14.1 quandl-3.5.3 requests-ntlm-1.1.0 retworkx-0.7.2 sympy-1.7.1 websockets-7.0\n"
          ],
          "name": "stdout"
        }
      ]
    },
    {
      "cell_type": "markdown",
      "metadata": {
        "id": "Di6i-Xltv_v2"
      },
      "source": [
        "## ライブラリの取得"
      ]
    },
    {
      "cell_type": "code",
      "metadata": {
        "id": "lSYgFgarv7W_"
      },
      "source": [
        "import os\r\n",
        "import time\r\n",
        "import pickle\r\n",
        "import numpy as np\r\n",
        "import pandas as pd\r\n",
        "from matplotlib import pyplot as plt\r\n",
        "import matplotlib as mpl\r\n",
        "from sklearn import preprocessing\r\n",
        "from tqdm.notebook import tqdm  \r\n",
        "\r\n",
        "from qiskit import BasicAer\r\n",
        "from qiskit.circuit.library import ZZFeatureMap\r\n",
        "from qiskit.aqua import QuantumInstance\r\n",
        "from qiskit.ml.datasets import ad_hoc_data, breast_cancer\r\n",
        "from qiskit.aqua import aqua_globals\r\n",
        "from qiskit.aqua.utils import split_dataset_to_data_and_labels, map_label_to_class_name\r\n",
        "from qiskit.aqua.algorithms import SklearnSVM\r\n",
        "from qiskit.aqua.algorithms import QSVM\r\n",
        "from qiskit.circuit.library import ZZFeatureMap"
      ],
      "execution_count": 2,
      "outputs": []
    },
    {
      "cell_type": "markdown",
      "metadata": {
        "id": "tf4jXr4Rxiav"
      },
      "source": [
        "## データや量子回路の設定\r\n",
        "\r\n",
        "#### ここでは，実験における訓練データ，テストデータの個数の設定，特徴量の個数，分類・予測結果を表示するグラフの設定などを行う"
      ]
    },
    {
      "cell_type": "code",
      "metadata": {
        "id": "zrzvJM55xfDI"
      },
      "source": [
        "# 訓練・テストデータの設定\r\n",
        "feature_dim = 2  # 特徴量の数\r\n",
        "training_dataset_size = 20\r\n",
        "testing_dataset_size = 10\r\n",
        "\r\n",
        "# 予測データの設定\r\n",
        "size = 50  # 50x50のメッシュを分類によって色分けし、擬似的に境界面を可視化する\r\n",
        "mesh_list = [[2*i/size-1, 2*j/size-1] for i in range(size+1) for j in range(size+1)]\r\n",
        "\r\n",
        "# 量子コンピュータのパラメータ設定\r\n",
        "shots = 1024\r\n",
        "seed = 10598"
      ],
      "execution_count": 3,
      "outputs": []
    },
    {
      "cell_type": "markdown",
      "metadata": {
        "id": "-iLZWLuSy2VV"
      },
      "source": [
        "## ヒートマップ\r\n",
        "#### ここでは，分類・予測結果を図示するためのヒートマップを導入する．"
      ]
    },
    {
      "cell_type": "code",
      "metadata": {
        "id": "4aZavpAnyhQ0"
      },
      "source": [
        "def heatmap(pred_list, size=50):\r\n",
        "    mat = np.flipud(pred_list.reshape(size+1, size+1, order='F'))\r\n",
        "    centers = [-1, 1, -1, 1]\r\n",
        "    dx, = np.diff(centers[:2])/(size)\r\n",
        "    dy, = -np.diff(centers[2:])/(size)\r\n",
        "    extent = [centers[0]-dx/3, centers[1]+dx/3, centers[2]+dy/3, centers[3]-dy/3]\r\n",
        "    cmap = mpl.colors.ListedColormap(['orange', 'cyan'])\r\n",
        "    # ヒートマップ表示\r\n",
        "    plt.imshow(mat, interpolation='nearest', vmin=0, vmax=1, cmap=cmap, extent=extent)\r\n",
        "\r\n",
        "\r\n",
        "def scatter_data(train_for_pred, test_for_pred, train_result, test_result,\r\n",
        "                 yshift=-0.155, print_index=False):\r\n",
        "    dataset_dict = {\"train\": train_for_pred, \"test\": test_for_pred}\r\n",
        "    result_dict = {\"train\":train_result, \"test\":test_result}\r\n",
        "    marker_dict = {\"train\": \"o\", \"test\": \"s\"}\r\n",
        "\r\n",
        "    for data_type in [\"train\", \"test\"]:\r\n",
        "        data_num_half = int(len(dataset_dict[data_type])/2) # ラベルA/Bのデータ数が1:1と仮定とする\r\n",
        "        for label in [\"A\", \"B\"]:  \r\n",
        "            if label == \"A\":\r\n",
        "                (plot_data, color) = dataset_dict[data_type][:data_num_half], \"red\"\r\n",
        "            elif label == \"B\":\r\n",
        "                (plot_data, color) = dataset_dict[data_type][data_num_half:], \"blue\"\r\n",
        "            plt.plot(plot_data[:,0], plot_data[:,1], marker_dict[data_type], color=color, markersize=10)\r\n",
        "\r\n",
        "        # 誤分類を×マークでプロット\r\n",
        "        for i, pred_label in enumerate(result_dict[data_type]):\r\n",
        "            if (i < data_num_half and pred_label != 0)\\\r\n",
        "              or (i >= data_num_half and pred_label != 1): \r\n",
        "                if print_index:\r\n",
        "                    plt.text(dataset_dict[data_type][i][0], dataset_dict[data_type][i][1], str(i), \r\n",
        "                            color=\"white\", size=15, fontweight='bold')\r\n",
        "                # ↓ x方向は自動、y方向は手動にてプロットの位置の微調整が現状ベスト\r\n",
        "                plt.text(dataset_dict[data_type][i][0], dataset_dict[data_type][i][1] + yshift, \"×\", \r\n",
        "                         horizontalalignment='center', color=\"white\", size=15, fontweight='bold')\r\n",
        "        plt.axis('off')\r\n",
        "        plt.title(\"Classification Boundary\", size=15)"
      ],
      "execution_count": 4,
      "outputs": []
    },
    {
      "cell_type": "markdown",
      "metadata": {
        "id": "x8vjK2xuy9EG"
      },
      "source": [
        "## circle data\r\n",
        "#### ここでは，60個のサンプルを生成している．"
      ]
    },
    {
      "cell_type": "code",
      "metadata": {
        "colab": {
          "base_uri": "https://localhost:8080/",
          "height": 442
        },
        "id": "SBeMzWOsym-d",
        "outputId": "eb49cca8-15ce-4ca0-f0a2-cc3347b3150e"
      },
      "source": [
        "from sklearn import datasets\r\n",
        "X, y = datasets.make_circles(60, noise=0.1, random_state=71)\r\n",
        "\r\n",
        "a0, b0 = X[y==0, 0], X[y==0, 1]\r\n",
        "a1, b1 = X[y==1, 0], X[y==1, 1]\r\n",
        "\r\n",
        "plt.figure(figsize=(8, 7))\r\n",
        "plt.scatter(a0, b0, marker='o', s=25, label='y=0')\r\n",
        "plt.scatter(a1, b1, marker='o', s=25, label='y=1')\r\n",
        "plt.legend()\r\n",
        "plt.xlabel('a')\r\n",
        "plt.ylabel('b')\r\n",
        "plt.show()"
      ],
      "execution_count": 34,
      "outputs": [
        {
          "output_type": "display_data",
          "data": {
            "image/png": "[encoded data removed]",
            "text/plain": [
              "<Figure size 576x504 with 1 Axes>"
            ]
          },
          "metadata": {
            "tags": [],
            "needs_background": "light"
          }
        }
      ]
    },
    {
      "cell_type": "markdown",
      "metadata": {
        "id": "eqT98n6mzPCU"
      },
      "source": [
        "## データの整理\r\n",
        "#### ここでは，訓練データ40個を用いて学習し，残りの20個をテストデータとして予測・Accuracyの検証を行う．\r\n",
        "#### さらに，ヒートマップのサイズに合わせるため，データを[-1, 1]の範囲に規格化する．"
      ]
    },
    {
      "cell_type": "code",
      "metadata": {
        "id": "YjOkpLsFzGsc"
      },
      "source": [
        "training_input = {'A': X[y==0][0:20], 'B': X[y==1][0:20]}\r\n",
        "test_input = {'A': X[y==0][20:30], 'B': X[y==1][20:30]}\r\n",
        "\r\n",
        "#(-1, 1)でプロットするためにdatasetを規格化\r\n",
        "(train_for_pred, _), _ = split_dataset_to_data_and_labels(training_input)\r\n",
        "(test_for_pred, _), _ = split_dataset_to_data_and_labels(test_input)\r\n",
        "dataset_array = np.vstack([train_for_pred, test_for_pred])\r\n",
        "min_array, max_array = dataset_array.min(), dataset_array.max()\r\n",
        "training_input_normalized = {k:(v-min_array)/(max_array-min_array)*2-1 for k,v in training_input.items()}\r\n",
        "test_input_normalized = {k:(v-min_array)/(max_array-min_array)*2-1 for k,v in test_input.items()} \r\n",
        "(train_for_pred, _), _ = split_dataset_to_data_and_labels(training_input_normalized)\r\n",
        "(test_for_pred, _), _ = split_dataset_to_data_and_labels(test_input_normalized)"
      ],
      "execution_count": 47,
      "outputs": []
    },
    {
      "cell_type": "code",
      "metadata": {
        "id": "CdOozZyJ0SMe"
      },
      "source": [
        ""
      ],
      "execution_count": null,
      "outputs": []
    },
    {
      "cell_type": "markdown",
      "metadata": {
        "id": "5vBU862n0cBf"
      },
      "source": [
        "# 特徴マップ\r\n",
        "#### ここでは，本実験で用いた３つのエンコード回路・エンコード関数の組により構築される特徴マップを導入する．"
      ]
    },
    {
      "cell_type": "markdown",
      "metadata": {
        "id": "-h3Rz1O006xx"
      },
      "source": [
        "### 1. 初期エンコード回路＋初期エンコード関数\r\n",
        "\r\n",
        "####  既存APIのZZfeaturemapで実装可能"
      ]
    },
    {
      "cell_type": "code",
      "metadata": {
        "id": "r-qK3aE204Rx"
      },
      "source": [
        "feature_map1 = ZZFeatureMap(feature_dim, reps=2)"
      ],
      "execution_count": 37,
      "outputs": []
    },
    {
      "cell_type": "markdown",
      "metadata": {
        "id": "ceQy979F1QxJ"
      },
      "source": [
        "### 2. エンコード回路１\r\n",
        "\r\n",
        "#### 対応するエンコード関数は論文に示してある．"
      ]
    },
    {
      "cell_type": "code",
      "metadata": {
        "id": "mFb2i-Mb0E7-"
      },
      "source": [
        "from qiskit.aqua.components.feature_maps import FeatureMap\r\n",
        "from qiskit import QuantumCircuit, QuantumRegister, ClassicalRegister\r\n",
        "from qiskit.circuit.library import BlueprintCircuit\r\n",
        "import math\r\n",
        "\r\n",
        "#特徴マップの名前をCustomFeatureMapとする．\r\n",
        "#初期値の設定\r\n",
        "class CustomFeatureMap(FeatureMap):\r\n",
        "\r\n",
        "    \r\n",
        "    def __init__(self, feature_dimension, depth=2, entangler_map=None):\r\n",
        "\r\n",
        "        self._support_parameterized_circuit = False\r\n",
        "        self._feature_dimension = feature_dimension\r\n",
        "        self._num_qubits = self._feature_dimension = feature_dimension\r\n",
        "        self._depth = depth\r\n",
        "        self._entangler_map = None\r\n",
        "        if self._entangler_map is None:\r\n",
        "            self._entangler_map = [[i, j] for i in range(self._feature_dimension) for j in range(i + 1, self._feature_dimension)]\r\n",
        "    \r\n",
        "    # 回路の構築\r\n",
        "    def construct_circuit(self, x, qr, inverse=False):\r\n",
        "\r\n",
        "        qc = QuantumCircuit(qr)\r\n",
        "\r\n",
        "        for _ in range(self._depth):\r\n",
        "\r\n",
        "\r\n",
        "            qc.h(qr[0])\r\n",
        "            qc.h(qr[1])\r\n",
        "\r\n",
        "            qc.rx(x[0], qr[0])\r\n",
        "            qc.rx(x[1], qr[1])\r\n",
        "\r\n",
        "            qc.cx(qr[0], qr[1])\r\n",
        "            qc.ry(np.pi * x[0] * x[1], qr[1])\r\n",
        "            qc.cx(qr[0], qr[1])\r\n",
        "                    \r\n",
        "        if inverse:\r\n",
        "            qc.inverse()\r\n",
        "        return qc"
      ],
      "execution_count": 15,
      "outputs": []
    },
    {
      "cell_type": "markdown",
      "metadata": {
        "id": "Ie-ORmL22Llf"
      },
      "source": [
        "### 3. エンコード回路２\r\n",
        "\r\n",
        "#### 対応するエンコード関数は論文に示してある．"
      ]
    },
    {
      "cell_type": "code",
      "metadata": {
        "id": "64Ml73XH0PbO"
      },
      "source": [
        "from qiskit.aqua.components.feature_maps import FeatureMap\r\n",
        "from qiskit import QuantumCircuit, QuantumRegister, ClassicalRegister\r\n",
        "from qiskit.circuit.library import BlueprintCircuit\r\n",
        "import math\r\n",
        "\r\n",
        "class CustomFeatureMap(FeatureMap):\r\n",
        "\r\n",
        "    \r\n",
        "    def __init__(self, feature_dimension, depth=2, entangler_map=None):\r\n",
        "\r\n",
        "        self._support_parameterized_circuit = False\r\n",
        "        self._feature_dimension = feature_dimension\r\n",
        "        self._num_qubits = self._feature_dimension = feature_dimension\r\n",
        "        self._depth = depth\r\n",
        "        self._entangler_map = None\r\n",
        "        if self._entangler_map is None:\r\n",
        "            self._entangler_map = [[i, j] for i in range(self._feature_dimension) for j in range(i + 1, self._feature_dimension)]\r\n",
        "            \r\n",
        "    def construct_circuit(self, x, qr, inverse=False):\r\n",
        "\r\n",
        "        qc = QuantumCircuit(qr)\r\n",
        "\r\n",
        "        \r\n",
        "        for _ in range(self._depth):\r\n",
        "\r\n",
        "\r\n",
        "            \r\n",
        "            qc.h(qr[0])\r\n",
        "            qc.h(qr[1])\r\n",
        "            \r\n",
        "            qc.ry(x[0], qr[0])\r\n",
        "            qc.ry(x[1], qr[1])\r\n",
        "            \r\n",
        "            qc.cx(qr[0], qr[1])\r\n",
        "            qc.rz(np.cos(x[0]) * np.cos(x[1]), qr[1])\r\n",
        "            qc.cx(qr[0], qr[1])\r\n",
        "                    \r\n",
        "        if inverse:\r\n",
        "            qc.inverse()\r\n",
        "        return qc"
      ],
      "execution_count": 51,
      "outputs": []
    },
    {
      "cell_type": "markdown",
      "metadata": {
        "id": "Ssoy2xUa3_u8"
      },
      "source": [
        "## 結果"
      ]
    },
    {
      "cell_type": "markdown",
      "metadata": {
        "id": "-3_QLIA64Fke"
      },
      "source": [
        "### 1. 初期エンコード回路を用いて分類・予測し，Accuracyを示す．"
      ]
    },
    {
      "cell_type": "code",
      "metadata": {
        "colab": {
          "base_uri": "https://localhost:8080/"
        },
        "id": "zjuDPnlR2tjf",
        "outputId": "7afdca9e-3ba8-49c6-b231-d0665580522a"
      },
      "source": [
        "backend = BasicAer.get_backend('qasm_simulator')\r\n",
        "svm = QSVM(feature_map1, training_input_normalized, test_input_normalized, None)# the data for prediction can be fed later.\r\n",
        "random_seed = 71\r\n",
        "svm.random_seed = random_seed\r\n",
        "quantum_instance = QuantumInstance(backend, shots=shots, seed_simulator=random_seed, seed_transpiler=random_seed)\r\n",
        "result = svm.run(quantum_instance)\r\n",
        "print(\"testing success ratio: \", result['testing_accuracy'])"
      ],
      "execution_count": 39,
      "outputs": [
        {
          "output_type": "stream",
          "text": [
            "testing success ratio:  0.75\n"
          ],
          "name": "stdout"
        }
      ]
    },
    {
      "cell_type": "markdown",
      "metadata": {
        "id": "k1BqrZS74UrP"
      },
      "source": [
        "### 2. エンコード回路１を用いて分類・予測し，Accuracyを示す．"
      ]
    },
    {
      "cell_type": "code",
      "metadata": {
        "colab": {
          "base_uri": "https://localhost:8080/"
        },
        "id": "VHIWeazT23s2",
        "outputId": "f85e17cb-6801-4a35-bbb9-083d90af9b39"
      },
      "source": [
        "backend = BasicAer.get_backend('qasm_simulator')\r\n",
        "feature_map2 = CustomFeatureMap(feature_dimension=2, depth=2)\r\n",
        "svm = QSVM(feature_map2, training_input_normalized, test_input_normalized)  # the data for prediction can be fed later.\r\n",
        "svm.random_seed = 71\r\n",
        "quantum_instance = QuantumInstance(backend, shots=shots, seed_simulator=seed, seed_transpiler=seed)\r\n",
        "result = svm.run(quantum_instance)\r\n",
        "print(\"testing success ratio: \", result['testing_accuracy'])"
      ],
      "execution_count": 40,
      "outputs": [
        {
          "output_type": "stream",
          "text": [
            "/usr/local/lib/python3.6/dist-packages/ipykernel_launcher.py:3: DeprecationWarning: \n",
            "                The <class '__main__.CustomFeatureMap'> object as input for the QSVM is deprecated as of 0.7.0 and will\n",
            "                be removed no earlier than 3 months after the release.\n",
            "                You should pass a QuantumCircuit object instead.\n",
            "                See also qiskit.circuit.library.data_preparation for a collection\n",
            "                of suitable circuits.\n",
            "  This is separate from the ipykernel package so we can avoid doing imports until\n"
          ],
          "name": "stderr"
        },
        {
          "output_type": "stream",
          "text": [
            "testing success ratio:  0.7\n"
          ],
          "name": "stdout"
        }
      ]
    },
    {
      "cell_type": "markdown",
      "metadata": {
        "id": "19IEAIb84hbL"
      },
      "source": [
        "### 3. エンコード回路２を用いて分類・予測し，Accuracyを示す．"
      ]
    },
    {
      "cell_type": "code",
      "metadata": {
        "colab": {
          "base_uri": "https://localhost:8080/"
        },
        "id": "MLo9H4re3lrc",
        "outputId": "a59d6ffa-a2ff-419d-f69b-395853d60e44"
      },
      "source": [
        "backend = BasicAer.get_backend('qasm_simulator')\r\n",
        "feature_map3 = CustomFeatureMap(feature_dimension=2, depth=2)\r\n",
        "svm = QSVM(feature_map3, training_input_normalized, test_input_normalized) \r\n",
        "svm.random_seed = 71\r\n",
        "quantum_instance = QuantumInstance(backend, shots=shots, seed_simulator=seed, seed_transpiler=seed)\r\n",
        "result = svm.run(quantum_instance)\r\n",
        "print(\"testing success ratio: \", result['testing_accuracy'])"
      ],
      "execution_count": 53,
      "outputs": [
        {
          "output_type": "stream",
          "text": [
            "/usr/local/lib/python3.6/dist-packages/ipykernel_launcher.py:3: DeprecationWarning: \n",
            "                The <class '__main__.CustomFeatureMap'> object as input for the QSVM is deprecated as of 0.7.0 and will\n",
            "                be removed no earlier than 3 months after the release.\n",
            "                You should pass a QuantumCircuit object instead.\n",
            "                See also qiskit.circuit.library.data_preparation for a collection\n",
            "                of suitable circuits.\n",
            "  This is separate from the ipykernel package so we can avoid doing imports until\n"
          ],
          "name": "stderr"
        },
        {
          "output_type": "stream",
          "text": [
            "testing success ratio:  0.9\n"
          ],
          "name": "stdout"
        }
      ]
    },
    {
      "cell_type": "markdown",
      "metadata": {
        "id": "IuUCymL6495u"
      },
      "source": [
        "## ヒートマップの表示\r\n",
        "\r\n",
        "#### ここでは例として，初期エンコード回路を用いた場合ヒートマップを表示する．"
      ]
    },
    {
      "cell_type": "markdown",
      "metadata": {
        "id": "_3RKaMPO5GlU"
      },
      "source": [
        "#### 1, 初めに，学習済みモデルを使って，$[-1,1]*[-1,1]$の各点におけるラベル予測をする．"
      ]
    },
    {
      "cell_type": "code",
      "metadata": {
        "colab": {
          "base_uri": "https://localhost:8080/",
          "height": 1000,
          "referenced_widgets": [
            "87d3ffcfd59c469aa438cceea369283a",
            "8acc573131c344a9b980be98bcbb001d",
            "97861a5672814531bb8d90e4f753c32a",
            "87a4fb624c0644c2b1a4c9389b75dac0",
            "fbdc941dfcde40fda8ec648c22404e65",
            "f187e9e0274440fb80290b0661b09037",
            "886eeb4cd22542a38b71897323bd32e1",
            "2e8a98ef74b84dbbac1b817ac6435e82"
          ]
        },
        "id": "2CXyxhY932yS",
        "outputId": "fda69cef-976f-4324-cfe3-eb9d5f846e98"
      },
      "source": [
        "\r\n",
        "(iter_num, input_size) = (51*3, 17)\r\n",
        "mesh_list_iter = np.array(mesh_list).reshape(iter_num, input_size, feature_dim)\r\n",
        "\r\n",
        "mesh_predict_tmp = []\r\n",
        "for i, iter_list in enumerate(tqdm(mesh_list_iter)):\r\n",
        "    tmp_list = svm.predict(iter_list)\r\n",
        "    mesh_predict_tmp.append(tmp_list)\r\n",
        "    print(\"epoch \", i, \" has done \",list(tmp_list))\r\n",
        "\r\n",
        "mesh_predict_result = np.array(mesh_predict_tmp).reshape(-1)"
      ],
      "execution_count": 23,
      "outputs": [
        {
          "output_type": "display_data",
          "data": {
            "application/vnd.jupyter.widget-view+json": {
              "model_id": "87d3ffcfd59c469aa438cceea369283a",
              "version_minor": 0,
              "version_major": 2
            },
            "text/plain": [
              "HBox(children=(FloatProgress(value=0.0, max=153.0), HTML(value='')))"
            ]
          },
          "metadata": {
            "tags": []
          }
        },
        {
          "output_type": "stream",
          "text": [
            "epoch  0  has done  [1, 1, 1, 1, 1, 0, 0, 0, 0, 0, 0, 1, 1, 1, 1, 1, 1]\n",
            "epoch  1  has done  [1, 1, 0, 0, 0, 0, 0, 0, 0, 0, 0, 0, 0, 0, 0, 0, 0]\n",
            "epoch  2  has done  [0, 0, 1, 0, 1, 0, 0, 0, 0, 0, 0, 0, 0, 1, 1, 0, 0]\n",
            "epoch  3  has done  [1, 1, 1, 1, 0, 0, 0, 0, 0, 0, 0, 1, 1, 1, 1, 1, 1]\n",
            "epoch  4  has done  [1, 0, 0, 0, 0, 0, 0, 0, 0, 0, 0, 0, 0, 0, 0, 0, 0]\n",
            "epoch  5  has done  [0, 0, 0, 1, 0, 0, 0, 0, 0, 0, 0, 0, 0, 1, 1, 0, 0]\n",
            "epoch  6  has done  [1, 1, 1, 0, 0, 0, 0, 0, 0, 0, 0, 1, 1, 1, 1, 1, 1]\n",
            "epoch  7  has done  [1, 0, 0, 0, 0, 0, 0, 0, 0, 0, 0, 0, 1, 0, 0, 0, 0]\n",
            "epoch  8  has done  [0, 1, 1, 1, 0, 0, 0, 0, 0, 0, 0, 0, 1, 1, 1, 0, 0]\n",
            "epoch  9  has done  [0, 1, 0, 0, 0, 0, 0, 0, 0, 0, 0, 1, 1, 1, 1, 1, 1]\n",
            "epoch  10  has done  [0, 0, 0, 0, 0, 0, 0, 0, 0, 0, 1, 1, 1, 1, 0, 0, 0]\n",
            "epoch  11  has done  [1, 1, 1, 1, 0, 0, 0, 0, 0, 0, 0, 0, 1, 1, 0, 0, 0]\n",
            "epoch  12  has done  [1, 1, 0, 0, 0, 0, 0, 0, 0, 0, 0, 1, 1, 1, 1, 1, 0]\n",
            "epoch  13  has done  [0, 0, 0, 0, 0, 0, 0, 0, 0, 1, 1, 1, 1, 1, 1, 1, 1]\n",
            "epoch  14  has done  [1, 1, 1, 0, 0, 0, 0, 0, 0, 0, 0, 1, 1, 1, 0, 0, 0]\n",
            "epoch  15  has done  [1, 1, 0, 0, 0, 0, 0, 0, 0, 0, 1, 1, 1, 1, 1, 1, 0]\n",
            "epoch  16  has done  [0, 0, 0, 0, 0, 0, 0, 0, 1, 1, 1, 1, 1, 1, 1, 1, 1]\n",
            "epoch  17  has done  [1, 1, 0, 0, 0, 0, 0, 0, 0, 0, 0, 1, 1, 0, 0, 0, 0]\n",
            "epoch  18  has done  [1, 1, 0, 0, 0, 0, 0, 0, 0, 0, 0, 0, 1, 1, 1, 0, 0]\n",
            "epoch  19  has done  [0, 0, 0, 0, 0, 0, 0, 0, 1, 1, 1, 1, 1, 1, 1, 1, 1]\n",
            "epoch  20  has done  [1, 0, 0, 0, 0, 0, 0, 0, 0, 0, 1, 1, 1, 0, 0, 0, 0]\n",
            "epoch  21  has done  [1, 1, 1, 0, 0, 0, 0, 0, 0, 1, 1, 1, 1, 1, 0, 0, 0]\n",
            "epoch  22  has done  [0, 0, 0, 0, 0, 0, 0, 1, 1, 1, 1, 1, 1, 1, 1, 1, 1]\n",
            "epoch  23  has done  [1, 0, 0, 0, 0, 0, 0, 0, 0, 1, 1, 1, 0, 0, 0, 0, 0]\n",
            "epoch  24  has done  [1, 1, 1, 1, 0, 0, 0, 0, 1, 1, 1, 1, 1, 0, 0, 0, 0]\n",
            "epoch  25  has done  [0, 0, 0, 0, 0, 0, 1, 1, 1, 1, 1, 1, 1, 1, 1, 1, 1]\n",
            "epoch  26  has done  [0, 0, 0, 0, 0, 0, 0, 0, 1, 1, 1, 1, 0, 0, 0, 0, 0]\n",
            "epoch  27  has done  [1, 1, 1, 1, 1, 0, 0, 0, 1, 1, 0, 0, 1, 0, 0, 0, 0]\n",
            "epoch  28  has done  [0, 0, 0, 0, 0, 1, 1, 1, 1, 1, 1, 1, 1, 1, 1, 1, 0]\n",
            "epoch  29  has done  [0, 0, 0, 0, 0, 0, 0, 1, 1, 1, 1, 1, 0, 0, 0, 0, 0]\n",
            "epoch  30  has done  [1, 1, 1, 1, 1, 1, 1, 0, 0, 0, 0, 0, 1, 0, 0, 0, 0]\n",
            "epoch  31  has done  [0, 0, 0, 0, 1, 1, 1, 1, 1, 1, 1, 1, 1, 1, 1, 0, 0]\n",
            "epoch  32  has done  [0, 0, 0, 0, 0, 0, 1, 1, 1, 1, 1, 0, 0, 0, 0, 0, 0]\n",
            "epoch  33  has done  [1, 1, 1, 1, 1, 1, 1, 1, 0, 0, 0, 1, 1, 0, 0, 0, 0]\n",
            "epoch  34  has done  [0, 0, 0, 1, 1, 1, 1, 1, 1, 1, 1, 1, 1, 1, 1, 0, 0]\n",
            "epoch  35  has done  [0, 0, 0, 0, 0, 1, 1, 1, 1, 1, 1, 0, 0, 0, 0, 0, 0]\n",
            "epoch  36  has done  [1, 1, 1, 1, 1, 1, 1, 0, 0, 1, 1, 1, 0, 0, 0, 0, 0]\n",
            "epoch  37  has done  [0, 0, 1, 1, 1, 1, 1, 1, 1, 1, 1, 1, 1, 1, 0, 0, 0]\n",
            "epoch  38  has done  [0, 0, 0, 0, 0, 1, 1, 1, 1, 1, 1, 0, 0, 0, 0, 0, 0]\n",
            "epoch  39  has done  [1, 1, 1, 1, 1, 1, 0, 1, 0, 1, 0, 0, 0, 0, 0, 0, 0]\n",
            "epoch  40  has done  [1, 1, 1, 1, 1, 1, 1, 1, 1, 1, 1, 1, 1, 1, 0, 0, 0]\n",
            "epoch  41  has done  [0, 0, 0, 0, 1, 1, 1, 1, 1, 1, 0, 0, 0, 0, 0, 0, 0]\n",
            "epoch  42  has done  [1, 1, 1, 0, 1, 1, 0, 0, 0, 0, 0, 0, 0, 0, 0, 0, 1]\n",
            "epoch  43  has done  [1, 1, 1, 1, 1, 1, 1, 1, 1, 1, 1, 1, 1, 0, 0, 0, 0]\n",
            "epoch  44  has done  [0, 0, 1, 1, 1, 1, 1, 1, 1, 1, 0, 0, 0, 0, 0, 0, 0]\n",
            "epoch  45  has done  [0, 0, 0, 0, 0, 0, 0, 0, 0, 0, 0, 0, 0, 0, 1, 1, 1]\n",
            "epoch  46  has done  [1, 1, 1, 1, 1, 1, 1, 1, 1, 1, 1, 1, 0, 0, 0, 0, 0]\n",
            "epoch  47  has done  [0, 1, 1, 1, 1, 1, 1, 1, 1, 0, 0, 0, 0, 0, 0, 0, 1]\n",
            "epoch  48  has done  [0, 0, 0, 0, 0, 0, 0, 0, 0, 0, 0, 0, 0, 1, 1, 1, 1]\n",
            "epoch  49  has done  [1, 1, 1, 1, 1, 1, 1, 1, 1, 1, 1, 0, 0, 0, 0, 0, 0]\n",
            "epoch  50  has done  [1, 1, 1, 1, 1, 1, 1, 1, 1, 0, 0, 0, 0, 0, 0, 0, 0]\n",
            "epoch  51  has done  [0, 0, 0, 0, 0, 0, 0, 0, 0, 0, 0, 0, 1, 1, 1, 1, 1]\n",
            "epoch  52  has done  [1, 1, 1, 1, 1, 1, 1, 1, 1, 1, 0, 0, 0, 0, 0, 0, 1]\n",
            "epoch  53  has done  [1, 1, 1, 1, 1, 1, 1, 1, 0, 0, 0, 0, 0, 0, 1, 0, 1]\n",
            "epoch  54  has done  [0, 0, 0, 0, 0, 0, 0, 0, 0, 0, 0, 1, 1, 1, 1, 1, 1]\n",
            "epoch  55  has done  [1, 1, 1, 1, 1, 1, 1, 1, 1, 0, 0, 0, 0, 0, 0, 1, 1]\n",
            "epoch  56  has done  [1, 1, 1, 1, 1, 1, 1, 1, 0, 0, 0, 0, 0, 0, 0, 1, 1]\n",
            "epoch  57  has done  [0, 0, 0, 0, 0, 0, 0, 0, 0, 0, 1, 1, 1, 1, 1, 1, 1]\n",
            "epoch  58  has done  [1, 1, 1, 1, 1, 1, 1, 1, 1, 0, 0, 0, 1, 0, 1, 1, 1]\n",
            "epoch  59  has done  [1, 1, 1, 1, 1, 1, 1, 1, 0, 0, 0, 0, 0, 1, 1, 1, 1]\n",
            "epoch  60  has done  [0, 0, 0, 0, 0, 0, 0, 0, 0, 1, 1, 1, 1, 1, 1, 1, 1]\n",
            "epoch  61  has done  [1, 1, 1, 1, 1, 1, 1, 1, 0, 0, 1, 1, 0, 1, 1, 1, 1]\n",
            "epoch  62  has done  [1, 1, 1, 1, 1, 1, 1, 0, 0, 0, 0, 0, 0, 1, 1, 1, 1]\n",
            "epoch  63  has done  [0, 0, 0, 0, 0, 0, 0, 0, 1, 1, 1, 1, 1, 1, 1, 1, 1]\n",
            "epoch  64  has done  [1, 1, 1, 1, 1, 1, 1, 0, 0, 1, 1, 1, 1, 1, 1, 1, 1]\n",
            "epoch  65  has done  [1, 1, 1, 1, 1, 1, 1, 0, 0, 0, 0, 0, 1, 1, 1, 1, 1]\n",
            "epoch  66  has done  [0, 0, 0, 0, 0, 0, 1, 1, 1, 1, 1, 1, 1, 1, 1, 1, 1]\n",
            "epoch  67  has done  [1, 1, 1, 1, 1, 1, 1, 1, 1, 1, 1, 1, 1, 1, 1, 1, 1]\n",
            "epoch  68  has done  [1, 1, 1, 1, 1, 1, 0, 0, 0, 0, 0, 1, 1, 1, 1, 1, 1]\n",
            "epoch  69  has done  [0, 0, 0, 0, 0, 1, 1, 1, 1, 1, 1, 1, 1, 1, 1, 1, 1]\n",
            "epoch  70  has done  [1, 1, 1, 1, 1, 1, 1, 1, 1, 1, 1, 1, 1, 1, 1, 1, 1]\n",
            "epoch  71  has done  [1, 1, 1, 1, 1, 1, 0, 0, 0, 0, 1, 1, 1, 1, 1, 1, 1]\n",
            "epoch  72  has done  [0, 0, 0, 0, 1, 1, 1, 1, 1, 1, 1, 1, 1, 1, 1, 1, 1]\n",
            "epoch  73  has done  [1, 1, 1, 1, 1, 0, 0, 1, 1, 1, 1, 1, 1, 1, 1, 1, 1]\n",
            "epoch  74  has done  [1, 1, 1, 1, 1, 1, 0, 0, 0, 1, 1, 1, 1, 1, 1, 1, 1]\n",
            "epoch  75  has done  [0, 0, 0, 1, 1, 1, 1, 1, 1, 1, 1, 1, 1, 1, 1, 1, 1]\n",
            "epoch  76  has done  [1, 1, 1, 1, 0, 0, 1, 1, 1, 1, 1, 1, 1, 1, 1, 1, 1]\n",
            "epoch  77  has done  [1, 1, 1, 1, 1, 1, 0, 0, 1, 1, 1, 1, 1, 1, 1, 1, 1]\n",
            "epoch  78  has done  [0, 0, 1, 1, 1, 1, 1, 1, 1, 1, 1, 1, 1, 1, 1, 1, 1]\n",
            "epoch  79  has done  [1, 1, 1, 0, 0, 0, 1, 1, 1, 1, 1, 1, 1, 1, 1, 1, 1]\n",
            "epoch  80  has done  [1, 1, 1, 1, 1, 0, 0, 1, 1, 1, 1, 1, 1, 1, 1, 1, 0]\n",
            "epoch  81  has done  [1, 1, 1, 1, 1, 1, 1, 1, 1, 1, 1, 1, 1, 1, 1, 1, 1]\n",
            "epoch  82  has done  [1, 0, 0, 0, 0, 1, 1, 1, 1, 1, 1, 1, 1, 1, 1, 1, 1]\n",
            "epoch  83  has done  [1, 1, 1, 1, 0, 0, 1, 1, 1, 1, 1, 1, 1, 1, 1, 0, 0]\n",
            "epoch  84  has done  [1, 1, 1, 1, 1, 1, 1, 1, 1, 1, 1, 1, 1, 1, 1, 1, 1]\n",
            "epoch  85  has done  [0, 0, 0, 0, 0, 1, 1, 1, 1, 1, 1, 1, 1, 1, 1, 1, 1]\n",
            "epoch  86  has done  [1, 1, 1, 0, 0, 1, 1, 1, 1, 1, 1, 1, 1, 1, 1, 1, 0]\n",
            "epoch  87  has done  [1, 1, 1, 1, 0, 0, 0, 0, 0, 1, 1, 1, 1, 1, 1, 0, 0]\n",
            "epoch  88  has done  [0, 0, 0, 0, 1, 1, 1, 1, 1, 1, 1, 1, 1, 1, 1, 1, 1]\n",
            "epoch  89  has done  [1, 1, 1, 0, 1, 1, 1, 1, 1, 1, 1, 1, 1, 1, 1, 0, 0]\n",
            "epoch  90  has done  [1, 0, 0, 0, 0, 0, 0, 0, 0, 1, 1, 1, 1, 1, 0, 0, 0]\n",
            "epoch  91  has done  [0, 0, 0, 0, 1, 1, 1, 1, 1, 1, 1, 1, 1, 1, 1, 1, 1]\n",
            "epoch  92  has done  [1, 1, 0, 1, 1, 1, 1, 1, 1, 1, 1, 1, 1, 1, 1, 0, 0]\n",
            "epoch  93  has done  [0, 0, 0, 0, 0, 0, 0, 0, 1, 1, 1, 1, 0, 0, 0, 0, 0]\n",
            "epoch  94  has done  [0, 0, 0, 1, 1, 1, 1, 1, 1, 1, 1, 1, 1, 1, 1, 1, 1]\n",
            "epoch  95  has done  [1, 0, 1, 1, 1, 1, 1, 1, 1, 1, 1, 1, 1, 1, 0, 0, 0]\n",
            "epoch  96  has done  [0, 0, 0, 0, 0, 0, 0, 0, 1, 1, 1, 0, 0, 0, 0, 0, 0]\n",
            "epoch  97  has done  [0, 0, 1, 1, 1, 1, 1, 1, 1, 1, 1, 1, 1, 1, 1, 1, 1]\n",
            "epoch  98  has done  [0, 1, 1, 1, 1, 1, 1, 1, 1, 1, 1, 1, 1, 1, 1, 0, 0]\n",
            "epoch  99  has done  [0, 0, 0, 0, 0, 0, 0, 1, 0, 0, 0, 0, 0, 0, 0, 0, 0]\n",
            "epoch  100  has done  [0, 1, 1, 1, 1, 1, 1, 1, 1, 1, 1, 1, 1, 1, 1, 1, 1]\n",
            "epoch  101  has done  [1, 1, 1, 1, 1, 1, 1, 1, 1, 1, 1, 1, 1, 1, 0, 0, 0]\n",
            "epoch  102  has done  [0, 0, 0, 0, 0, 0, 0, 0, 0, 0, 0, 0, 0, 0, 0, 0, 0]\n",
            "epoch  103  has done  [1, 1, 1, 1, 1, 1, 1, 1, 1, 1, 1, 1, 1, 1, 1, 1, 1]\n",
            "epoch  104  has done  [1, 1, 1, 1, 1, 1, 1, 1, 1, 1, 1, 1, 1, 0, 0, 0, 0]\n",
            "epoch  105  has done  [0, 0, 0, 0, 0, 0, 0, 0, 0, 0, 0, 0, 0, 0, 0, 0, 1]\n",
            "epoch  106  has done  [1, 1, 1, 1, 1, 1, 1, 1, 1, 1, 1, 1, 1, 1, 1, 1, 1]\n",
            "epoch  107  has done  [1, 1, 1, 1, 1, 1, 1, 1, 1, 1, 1, 1, 1, 0, 0, 0, 0]\n",
            "epoch  108  has done  [0, 0, 0, 0, 0, 0, 0, 0, 0, 0, 0, 0, 0, 0, 0, 0, 1]\n",
            "epoch  109  has done  [1, 1, 1, 1, 1, 1, 1, 1, 1, 1, 1, 1, 1, 1, 1, 1, 1]\n",
            "epoch  110  has done  [1, 1, 1, 1, 1, 1, 1, 1, 1, 1, 1, 1, 0, 0, 0, 0, 0]\n",
            "epoch  111  has done  [0, 0, 0, 0, 0, 0, 0, 0, 0, 0, 0, 0, 0, 0, 0, 1, 1]\n",
            "epoch  112  has done  [1, 1, 1, 1, 1, 1, 1, 1, 1, 1, 1, 1, 1, 1, 1, 1, 1]\n",
            "epoch  113  has done  [1, 1, 1, 1, 1, 1, 1, 1, 1, 1, 1, 0, 0, 0, 0, 0, 0]\n",
            "epoch  114  has done  [0, 0, 0, 0, 0, 0, 0, 0, 0, 0, 0, 0, 0, 0, 1, 1, 1]\n",
            "epoch  115  has done  [1, 1, 1, 1, 1, 1, 1, 1, 1, 1, 1, 1, 1, 1, 1, 1, 1]\n",
            "epoch  116  has done  [1, 1, 1, 1, 1, 1, 1, 1, 1, 1, 1, 0, 0, 0, 0, 0, 0]\n",
            "epoch  117  has done  [0, 0, 0, 0, 0, 0, 0, 0, 0, 0, 0, 0, 1, 1, 1, 1, 1]\n",
            "epoch  118  has done  [1, 1, 1, 1, 1, 1, 1, 1, 1, 1, 1, 1, 1, 1, 1, 1, 1]\n",
            "epoch  119  has done  [1, 1, 1, 1, 1, 1, 1, 1, 1, 1, 1, 0, 0, 0, 0, 0, 0]\n",
            "epoch  120  has done  [0, 0, 0, 0, 0, 0, 0, 0, 0, 0, 0, 1, 1, 1, 1, 1, 1]\n",
            "epoch  121  has done  [1, 1, 1, 1, 1, 1, 1, 1, 1, 1, 1, 1, 1, 1, 1, 1, 1]\n",
            "epoch  122  has done  [1, 1, 1, 1, 1, 1, 1, 1, 1, 1, 0, 0, 0, 0, 0, 0, 0]\n",
            "epoch  123  has done  [0, 0, 0, 0, 0, 0, 0, 0, 0, 0, 1, 1, 1, 1, 1, 1, 1]\n",
            "epoch  124  has done  [1, 1, 1, 1, 1, 1, 1, 1, 1, 1, 1, 1, 1, 1, 1, 1, 1]\n",
            "epoch  125  has done  [1, 1, 1, 1, 1, 1, 1, 1, 1, 1, 0, 1, 0, 1, 0, 0, 0]\n",
            "epoch  126  has done  [0, 0, 0, 0, 0, 0, 0, 0, 1, 1, 1, 1, 1, 1, 1, 1, 1]\n",
            "epoch  127  has done  [1, 1, 1, 1, 1, 1, 1, 1, 1, 1, 1, 1, 1, 1, 1, 1, 1]\n",
            "epoch  128  has done  [1, 1, 1, 1, 1, 1, 1, 1, 1, 1, 1, 1, 1, 0, 0, 0, 0]\n",
            "epoch  129  has done  [0, 0, 0, 0, 0, 0, 0, 1, 1, 1, 1, 1, 1, 1, 0, 0, 0]\n",
            "epoch  130  has done  [0, 0, 1, 1, 1, 1, 1, 1, 1, 1, 1, 1, 1, 1, 1, 1, 1]\n",
            "epoch  131  has done  [1, 1, 1, 1, 0, 0, 0, 1, 0, 1, 1, 1, 0, 0, 0, 0, 0]\n",
            "epoch  132  has done  [0, 0, 0, 0, 0, 1, 1, 1, 1, 1, 1, 0, 0, 0, 0, 0, 0]\n",
            "epoch  133  has done  [0, 1, 1, 1, 1, 1, 1, 1, 1, 1, 1, 1, 1, 1, 1, 1, 1]\n",
            "epoch  134  has done  [1, 1, 1, 0, 0, 0, 0, 0, 0, 1, 0, 0, 0, 0, 0, 0, 0]\n",
            "epoch  135  has done  [0, 0, 0, 0, 1, 1, 1, 1, 1, 1, 0, 0, 0, 0, 0, 0, 0]\n",
            "epoch  136  has done  [0, 1, 1, 1, 1, 1, 1, 1, 1, 1, 1, 1, 1, 1, 1, 1, 1]\n",
            "epoch  137  has done  [0, 1, 1, 0, 0, 0, 0, 0, 0, 1, 0, 0, 1, 0, 0, 0, 0]\n",
            "epoch  138  has done  [1, 1, 1, 1, 1, 1, 1, 0, 0, 0, 0, 0, 0, 0, 0, 0, 0]\n",
            "epoch  139  has done  [1, 1, 1, 1, 1, 1, 1, 1, 1, 1, 1, 1, 1, 1, 1, 1, 0]\n",
            "epoch  140  has done  [0, 0, 0, 0, 0, 0, 0, 0, 0, 0, 0, 0, 1, 1, 0, 0, 0]\n",
            "epoch  141  has done  [1, 1, 1, 1, 1, 0, 0, 0, 0, 0, 0, 0, 0, 0, 0, 0, 0]\n",
            "epoch  142  has done  [1, 1, 1, 1, 1, 1, 1, 1, 1, 1, 1, 1, 0, 0, 0, 0, 0]\n",
            "epoch  143  has done  [0, 0, 0, 0, 0, 0, 0, 0, 0, 0, 0, 1, 1, 0, 0, 0, 0]\n",
            "epoch  144  has done  [1, 1, 1, 0, 0, 0, 0, 0, 0, 0, 0, 0, 0, 0, 0, 0, 1]\n",
            "epoch  145  has done  [1, 1, 1, 1, 0, 0, 1, 0, 0, 0, 0, 0, 0, 0, 0, 0, 0]\n",
            "epoch  146  has done  [0, 0, 0, 0, 0, 0, 0, 0, 0, 0, 1, 1, 1, 1, 0, 1, 1]\n",
            "epoch  147  has done  [0, 0, 0, 0, 0, 0, 0, 0, 0, 0, 0, 0, 0, 0, 0, 0, 1]\n",
            "epoch  148  has done  [1, 0, 0, 0, 0, 0, 0, 0, 0, 0, 0, 0, 0, 0, 0, 0, 0]\n",
            "epoch  149  has done  [0, 0, 0, 0, 0, 0, 0, 0, 0, 0, 1, 1, 1, 1, 1, 1, 1]\n",
            "epoch  150  has done  [0, 0, 0, 0, 0, 0, 0, 0, 0, 0, 0, 0, 0, 1, 0, 1, 0]\n",
            "epoch  151  has done  [0, 0, 0, 0, 0, 0, 0, 0, 0, 0, 0, 0, 0, 0, 0, 0, 0]\n",
            "epoch  152  has done  [0, 0, 0, 0, 0, 0, 0, 0, 0, 1, 0, 1, 1, 1, 1, 1, 1]\n",
            "\n"
          ],
          "name": "stdout"
        }
      ]
    },
    {
      "cell_type": "markdown",
      "metadata": {
        "id": "7cWp1TvSGVWD"
      },
      "source": [
        "#### 2, 次に，同様のモデルを使って，もともとの訓練データとテストデータのラベルを予測する．"
      ]
    },
    {
      "cell_type": "code",
      "metadata": {
        "id": "tY-PEFq8-y3b"
      },
      "source": [
        "train_result = svm.predict(train_for_pred)\r\n",
        "test_result = svm.predict(test_for_pred)"
      ],
      "execution_count": 48,
      "outputs": []
    },
    {
      "cell_type": "markdown",
      "metadata": {
        "id": "drs1bz2wGvMf"
      },
      "source": [
        "#### 3, 最後に，以上の点をプロットしたヒートマップを表示する．"
      ]
    },
    {
      "cell_type": "code",
      "metadata": {
        "colab": {
          "base_uri": "https://localhost:8080/",
          "height": 429
        },
        "id": "QABEDNku5gZ4",
        "outputId": "9261bdd1-7e48-429d-a88f-2c05778065e8"
      },
      "source": [
        "mesh_predict_result = np.array(mesh_predict_tmp).reshape(-1)\r\n",
        "plt.figure(figsize=(7, 7))               \r\n",
        "heatmap(mesh_predict_result)\r\n",
        "scatter_data(train_for_pred, test_for_pred, train_result, test_result ,yshift=-0.014)\r\n",
        "plt.show()"
      ],
      "execution_count": 49,
      "outputs": [
        {
          "output_type": "display_data",
          "data": {
            "image/png": "[encoded data removed]",
            "text/plain": [
              "<Figure size 504x504 with 1 Axes>"
            ]
          },
          "metadata": {
            "tags": [],
            "needs_background": "light"
          }
        }
      ]
    },
    {
      "cell_type": "markdown",
      "metadata": {
        "id": "quxCtSluKJ_m"
      },
      "source": [
        "#### 参考文献\r\n",
        "#### qiita. 「Qiskitで量子SVMを実装して性能評価してみた」.\r\n",
        "#### https://qiita.com/ucc_white/items/f2ea0d019979dd675f82（参照2021-01-04）"
      ]
    },
    {
      "cell_type": "code",
      "metadata": {
        "id": "R7cFlEQ8KLJN"
      },
      "source": [
        ""
      ],
      "execution_count": null,
      "outputs": []
    }
  ]
}